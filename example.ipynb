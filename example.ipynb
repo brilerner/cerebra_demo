{
 "cells": [
  {
   "cell_type": "code",
   "execution_count": 9,
   "id": "637d750e-5a60-4dea-9c71-2abc5f89b6c1",
   "metadata": {},
   "outputs": [
    {
     "name": "stdout",
     "output_type": "stream",
     "text": [
      "The autoreload extension is already loaded. To reload it, use:\n",
      "  %reload_ext autoreload\n"
     ]
    }
   ],
   "source": [
    "%load_ext autoreload\n",
    "%autoreload 2"
   ]
  },
  {
   "cell_type": "code",
   "execution_count": 10,
   "id": "c0fba884-2cf6-4963-b113-3a8ab3879a95",
   "metadata": {},
   "outputs": [],
   "source": [
    "from funcs import Cerebra\n",
    "cer = Cerebra()"
   ]
  },
  {
   "cell_type": "code",
   "execution_count": 14,
   "id": "ac064d50-faff-4e83-81ab-8eba22285f55",
   "metadata": {},
   "outputs": [],
   "source": [
    "cer.run_query(\"How many times did I have a headache?\")"
   ]
  },
  {
   "cell_type": "code",
   "execution_count": 12,
   "id": "f0c4905b-3902-4309-a206-f3f89d6ff567",
   "metadata": {},
   "outputs": [
    {
     "data": {
      "text/plain": [
       "'Thank you. Your Cerebra Journal has been updated.'"
      ]
     },
     "execution_count": 12,
     "metadata": {},
     "output_type": "execute_result"
    }
   ],
   "source": [
    "entry = \"Here's a journal entry. Today began on a high note with a burst of productivity in the morning. But as the afternoon rolled in, so did a nagging headache that just wouldn't let up. I tried to shake it off with my usual pre-dinner workout, but exhaustion had me throwing in the towel early. I ended up grabbing takeout on my way home, followed by a long, hot bath. Hoping to shake off the day's weariness, I turned in early, seeking some respite in sleep.\"\n",
    "cer.input_prompt(entry)"
   ]
  }
 ],
 "metadata": {
  "kernelspec": {
   "display_name": "Python 3 (ipykernel)",
   "language": "python",
   "name": "python3"
  },
  "language_info": {
   "codemirror_mode": {
    "name": "ipython",
    "version": 3
   },
   "file_extension": ".py",
   "mimetype": "text/x-python",
   "name": "python",
   "nbconvert_exporter": "python",
   "pygments_lexer": "ipython3",
   "version": "3.12.0"
  }
 },
 "nbformat": 4,
 "nbformat_minor": 5
}
