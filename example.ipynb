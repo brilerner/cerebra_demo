{
 "cells": [
  {
   "cell_type": "code",
   "execution_count": 14,
   "id": "637d750e-5a60-4dea-9c71-2abc5f89b6c1",
   "metadata": {},
   "outputs": [
    {
     "name": "stdout",
     "output_type": "stream",
     "text": [
      "The autoreload extension is already loaded. To reload it, use:\n",
      "  %reload_ext autoreload\n"
     ]
    }
   ],
   "source": [
    "%load_ext autoreload\n",
    "%autoreload 2"
   ]
  },
  {
   "cell_type": "code",
   "execution_count": 15,
   "id": "c0fba884-2cf6-4963-b113-3a8ab3879a95",
   "metadata": {},
   "outputs": [],
   "source": [
    "from funcs import Cerebra\n",
    "cer = Cerebra()"
   ]
  },
  {
   "cell_type": "code",
   "execution_count": 12,
   "id": "f0c4905b-3902-4309-a206-f3f89d6ff567",
   "metadata": {},
   "outputs": [
    {
     "data": {
      "text/plain": [
       "'Thank you. Your Cerebra Journal has been updated.'"
      ]
     },
     "execution_count": 12,
     "metadata": {},
     "output_type": "execute_result"
    }
   ],
   "source": [
    "entry = \"Here's a journal entry. Today began on a high note with a burst of productivity in the morning. But as the afternoon rolled in, so did a nagging headache that just wouldn't let up. I tried to shake it off with my usual pre-dinner workout, but exhaustion had me throwing in the towel early. I ended up grabbing takeout on my way home, followed by a long, hot bath. Hoping to shake off the day's weariness, I turned in early, seeking some respite in sleep.\"\n",
    "cer.input_prompt(entry)"
   ]
  },
  {
   "cell_type": "code",
   "execution_count": 16,
   "id": "ac064d50-faff-4e83-81ab-8eba22285f55",
   "metadata": {},
   "outputs": [
    {
     "name": "stdout",
     "output_type": "stream",
     "text": [
      "\n",
      "\n",
      "\u001b[1m> Entering new AgentExecutor chain...\u001b[0m\n",
      "\u001b[32;1m\u001b[1;3mThought: I need to find the rows with the label 'headache' and then sum the 12am-8am column.\n",
      "Action: python_repl_ast\n",
      "Action Input: df[df['label'] == 'headache']['12am-8am'].sum()\u001b[0m\n",
      "Observation: \u001b[36;1m\u001b[1;3m5\u001b[0m\n",
      "Thought:\u001b[32;1m\u001b[1;3m I now know the final answer\n",
      "Final Answer: I had a headache 5 times in the morning.\u001b[0m\n",
      "\n",
      "\u001b[1m> Finished chain.\u001b[0m\n"
     ]
    },
    {
     "data": {
      "text/plain": [
       "'I had a headache 5 times in the morning.'"
      ]
     },
     "execution_count": 16,
     "metadata": {},
     "output_type": "execute_result"
    }
   ],
   "source": [
    "cer.run_query(\"Question. How many times did I have a headache in the morning?\")"
   ]
  }
 ],
 "metadata": {
  "kernelspec": {
   "display_name": "Python 3 (ipykernel)",
   "language": "python",
   "name": "python3"
  },
  "language_info": {
   "codemirror_mode": {
    "name": "ipython",
    "version": 3
   },
   "file_extension": ".py",
   "mimetype": "text/x-python",
   "name": "python",
   "nbconvert_exporter": "python",
   "pygments_lexer": "ipython3",
   "version": "3.12.0"
  }
 },
 "nbformat": 4,
 "nbformat_minor": 5
}
